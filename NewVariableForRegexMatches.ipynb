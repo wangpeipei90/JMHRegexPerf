{
 "cells": [
  {
   "cell_type": "code",
   "execution_count": 1,
   "metadata": {},
   "outputs": [],
   "source": [
    "import pandas as pd\n",
    "import numpy as np\n",
    "import pickle\n",
    "from StringContains import ContainedStringCase \n",
    "import seaborn as sns\n",
    "%matplotlib inline \n",
    "import matplotlib.pyplot as plt\n",
    "plt.style.use('seaborn-paper')\n",
    "import os\n",
    "from scipy.stats import ks_2samp, ttest_rel, f, mannwhitneyu, pearsonr, spearmanr, kendalltau\n",
    "from jmh_parser import parseFile\n",
    "from benchmarkutils import get_data_frame_from_csv, get_ks_2sample_test_log, get_mann_whitney_u_test_test_log, read_log\n",
    "from statsmodels.formula.api import ols\n",
    "import statsmodels.api as sm\n",
    "from statsmodels.stats.multicomp import pairwise_tukeyhsd"
   ]
  },
  {
   "cell_type": "code",
   "execution_count": 2,
   "metadata": {},
   "outputs": [],
   "source": [
    "os.chdir(\"/Users/pw/eclipse-workspace/JMHRegexPerf\")\n",
    "http2_dir_1 = \"http2/\"\n",
    "http2_dir_3 = \"http2_shuffle2/\"\n",
    "http1 = \"http1/\"\n",
    "http0 = \"http0/\"\n",
    "http3 = \"http3/\""
   ]
  },
  {
   "cell_type": "code",
   "execution_count": 3,
   "metadata": {},
   "outputs": [],
   "source": [
    "df1 = get_data_frame_from_csv(http2_dir_1)"
   ]
  },
  {
   "cell_type": "code",
   "execution_count": 4,
   "metadata": {},
   "outputs": [
    {
     "data": {
      "text/html": [
       "<div>\n",
       "<style scoped>\n",
       "    .dataframe tbody tr th:only-of-type {\n",
       "        vertical-align: middle;\n",
       "    }\n",
       "\n",
       "    .dataframe tbody tr th {\n",
       "        vertical-align: top;\n",
       "    }\n",
       "\n",
       "    .dataframe thead th {\n",
       "        text-align: right;\n",
       "    }\n",
       "</style>\n",
       "<table border=\"1\" class=\"dataframe\">\n",
       "  <thead>\n",
       "    <tr style=\"text-align: right;\">\n",
       "      <th>Benchmark</th>\n",
       "      <th>str_len</th>\n",
       "      <th>match_pos_ratio</th>\n",
       "      <th>regexMatches</th>\n",
       "      <th>stringContains</th>\n",
       "      <th>substr</th>\n",
       "      <th>data_index</th>\n",
       "      <th>improve_ratio</th>\n",
       "    </tr>\n",
       "  </thead>\n",
       "  <tbody>\n",
       "    <tr>\n",
       "      <th>0</th>\n",
       "      <td>1024</td>\n",
       "      <td>0</td>\n",
       "      <td>7862</td>\n",
       "      <td>10</td>\n",
       "      <td>http</td>\n",
       "      <td>http2/2</td>\n",
       "      <td>786.200000</td>\n",
       "    </tr>\n",
       "    <tr>\n",
       "      <th>1</th>\n",
       "      <td>1024</td>\n",
       "      <td>0.25</td>\n",
       "      <td>6201</td>\n",
       "      <td>46</td>\n",
       "      <td>http</td>\n",
       "      <td>http2/2</td>\n",
       "      <td>134.804348</td>\n",
       "    </tr>\n",
       "    <tr>\n",
       "      <th>2</th>\n",
       "      <td>1024</td>\n",
       "      <td>0.5</td>\n",
       "      <td>4631</td>\n",
       "      <td>81</td>\n",
       "      <td>http</td>\n",
       "      <td>http2/2</td>\n",
       "      <td>57.172840</td>\n",
       "    </tr>\n",
       "    <tr>\n",
       "      <th>3</th>\n",
       "      <td>1024</td>\n",
       "      <td>0.75</td>\n",
       "      <td>2070</td>\n",
       "      <td>117</td>\n",
       "      <td>http</td>\n",
       "      <td>http2/2</td>\n",
       "      <td>17.692308</td>\n",
       "    </tr>\n",
       "    <tr>\n",
       "      <th>4</th>\n",
       "      <td>1024</td>\n",
       "      <td>1</td>\n",
       "      <td>5563</td>\n",
       "      <td>150</td>\n",
       "      <td>http</td>\n",
       "      <td>http2/2</td>\n",
       "      <td>37.086667</td>\n",
       "    </tr>\n",
       "  </tbody>\n",
       "</table>\n",
       "</div>"
      ],
      "text/plain": [
       "Benchmark str_len match_pos_ratio  regexMatches  stringContains substr  \\\n",
       "0            1024               0          7862              10   http   \n",
       "1            1024            0.25          6201              46   http   \n",
       "2            1024             0.5          4631              81   http   \n",
       "3            1024            0.75          2070             117   http   \n",
       "4            1024               1          5563             150   http   \n",
       "\n",
       "Benchmark data_index  improve_ratio  \n",
       "0            http2/2     786.200000  \n",
       "1            http2/2     134.804348  \n",
       "2            http2/2      57.172840  \n",
       "3            http2/2      17.692308  \n",
       "4            http2/2      37.086667  "
      ]
     },
     "execution_count": 4,
     "metadata": {},
     "output_type": "execute_result"
    }
   ],
   "source": [
    "df1.head()"
   ]
  },
  {
   "cell_type": "code",
   "execution_count": 6,
   "metadata": {},
   "outputs": [
    {
     "data": {
      "text/plain": [
       "0     1024.0\n",
       "1      768.0\n",
       "2      512.0\n",
       "3      256.0\n",
       "4        0.0\n",
       "       ...  \n",
       "66    8192.0\n",
       "67    6144.0\n",
       "68    4096.0\n",
       "69    2048.0\n",
       "70       0.0\n",
       "Length: 71, dtype: float64"
      ]
     },
     "execution_count": 6,
     "metadata": {},
     "output_type": "execute_result"
    }
   ],
   "source": [
    "df1 = df1.astype({\"str_len\":\"int\", \"match_pos_ratio\":\"float\"})\n",
    "df1[\"matches\"] = df1[\"match_pos_ratio\"] == 1.0\n",
    "df1['match_pos'] = df1['str_len'] * df1['match_pos_ratio']\n",
    "df1['match_pos'] = df1['match_pos'].round().astype(int)\n",
    "t = df1['str_len'] * (1 - df1['match_pos_ratio'])\n",
    "t"
   ]
  },
  {
   "cell_type": "code",
   "execution_count": null,
   "metadata": {},
   "outputs": [],
   "source": []
  }
 ],
 "metadata": {
  "kernelspec": {
   "display_name": "Python 3",
   "language": "python",
   "name": "python3"
  },
  "language_info": {
   "codemirror_mode": {
    "name": "ipython",
    "version": 3
   },
   "file_extension": ".py",
   "mimetype": "text/x-python",
   "name": "python",
   "nbconvert_exporter": "python",
   "pygments_lexer": "ipython3",
   "version": "3.8.3"
  }
 },
 "nbformat": 4,
 "nbformat_minor": 4
}
